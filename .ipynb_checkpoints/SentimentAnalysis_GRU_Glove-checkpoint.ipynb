{
 "cells": [
  {
   "cell_type": "markdown",
   "id": "eceaded6",
   "metadata": {},
   "source": [
    "###  Sentiment Analysis using a GRU-based encoder with GloVe embeddings"
   ]
  },
  {
   "cell_type": "code",
   "execution_count": null,
   "id": "5fe5186a",
   "metadata": {
    "colab": {
     "base_uri": "https://localhost:8080/"
    },
    "id": "5fe5186a",
    "outputId": "a7f5cad9-5a63-4d34-caa3-1a1739de8ed0",
    "scrolled": true
   },
   "outputs": [
    {
     "name": "stdout",
     "output_type": "stream",
     "text": [
      "1.13.1+cu116\n",
      "True\n",
      "Using Tesla T4\n"
     ]
    }
   ],
   "source": [
    "import torch\n",
    "import torch.nn as nn\n",
    "import torch.nn.functional as F\n",
    "import os\n",
    "import spacy\n",
    "import pandas as pd\n",
    "import numpy as np\n",
    "import matplotlib.pyplot as plt\n",
    "from collections import Counter\n",
    "device = torch.device('cuda' if torch.cuda.is_available() else 'cpu')\n",
    "from torch.utils.data import DataLoader, Dataset\n",
    "print(torch.__version__)\n",
    "print(torch.cuda.is_available())\n",
    "print('Using', torch.cuda.get_device_name())"
   ]
  },
  {
   "cell_type": "code",
   "execution_count": null,
   "id": "iexMwZi8vhkS",
   "metadata": {
    "colab": {
     "base_uri": "https://localhost:8080/"
    },
    "id": "iexMwZi8vhkS",
    "outputId": "9cb1acf9-f6c2-4a6b-894e-a57eacb8384d"
   },
   "outputs": [
    {
     "name": "stdout",
     "output_type": "stream",
     "text": [
      "Drive already mounted at /content/drive; to attempt to forcibly remount, call drive.mount(\"/content/drive\", force_remount=True).\n"
     ]
    }
   ],
   "source": [
    "from google.colab import drive\n",
    "drive.mount('/content/drive')"
   ]
  },
  {
   "cell_type": "code",
   "execution_count": null,
   "id": "e0ed0197",
   "metadata": {
    "id": "e0ed0197"
   },
   "outputs": [],
   "source": [
    "root_dir = './drive/MyDrive/IMDB/train'\n",
    "df_train = pd.DataFrame(columns=['review', 'label'])\n",
    "for folder in ['pos', 'neg']:\n",
    "    folder_path = os.path.join(root_dir, folder)\n",
    "    for file in os.listdir(folder_path):\n",
    "        file_path = os.path.join(folder_path, file)\n",
    "\n",
    "        with open(file_path, 'r') as f:\n",
    "            string = f.read().strip()\n",
    "\n",
    "        df_train.loc[len(df_train.index)] = [string, 1 if folder=='pos' else 0]\n",
    "\n",
    "root_dir = './drive/MyDrive/IMDB/test'\n",
    "df_test = pd.DataFrame(columns=['review', 'label'])\n",
    "for folder in ['pos', 'neg']:\n",
    "    folder_path = os.path.join(root_dir, folder)\n",
    "    for file in os.listdir(folder_path):\n",
    "        file_path = os.path.join(folder_path, file)\n",
    "\n",
    "        with open(file_path, 'r') as f:\n",
    "            string = f.read().strip()\n",
    "\n",
    "        df_test.loc[len(df_test.index)] = [string, 1 if folder=='pos' else 0]"
   ]
  },
  {
   "cell_type": "code",
   "execution_count": null,
   "id": "YuPWcRu5B6ou",
   "metadata": {
    "id": "YuPWcRu5B6ou"
   },
   "outputs": [],
   "source": [
    "# df_train.to_csv('./drive/MyDrive/IMDB/imdb_train.txt', header=True, index=False)\n",
    "# df_test.to_csv('./drive/MyDrive/IMDB/imdb_test.txt', header=True, index=False)"
   ]
  },
  {
   "cell_type": "code",
   "execution_count": null,
   "id": "0160a5ZuWrOZ",
   "metadata": {
    "id": "0160a5ZuWrOZ"
   },
   "outputs": [],
   "source": [
    "df_train = pd.read_csv('./drive/MyDrive/IMDB/imdb_train.txt')\n",
    "df_test = pd.read_csv('./drive/MyDrive/IMDB/imdb_test.txt')"
   ]
  },
  {
   "cell_type": "code",
   "execution_count": null,
   "id": "db19c0df",
   "metadata": {
    "id": "db19c0df"
   },
   "outputs": [],
   "source": [
    "from sklearn.model_selection import train_test_split\n",
    "\n",
    "X_train = df_train.copy()\n",
    "y_train = X_train.pop('label')\n",
    "X_test = df_test.copy()\n",
    "y_test = X_test.pop('label')\n",
    "X_test, X_val, y_test, y_val = train_test_split(X_test, y_test,\n",
    "                                                test_size=0.2, stratify=y_test)"
   ]
  },
  {
   "cell_type": "code",
   "execution_count": null,
   "id": "2d2114b6",
   "metadata": {
    "id": "2d2114b6"
   },
   "outputs": [],
   "source": [
    "class IMDBDataset(Dataset):\n",
    "    def __init__(self, X, y):\n",
    "        self.X = np.array(X['review'])\n",
    "        self.y = np.array(y)\n",
    "    def __len__(self):\n",
    "        return len(self.X)\n",
    "    def __getitem__(self, idx):\n",
    "        idx = np.array(idx)\n",
    "        text = self.X[idx]\n",
    "        label = self.y[idx]\n",
    "        return text, label"
   ]
  },
  {
   "cell_type": "code",
   "execution_count": null,
   "id": "9df21e76",
   "metadata": {},
   "outputs": [],
   "source": []
  },
  {
   "cell_type": "code",
   "execution_count": null,
   "id": "ffc2a1dd",
   "metadata": {
    "id": "ffc2a1dd"
   },
   "outputs": [],
   "source": [
    "class Vocab():\n",
    "    def __init__(self, dataset, max_size=float('inf'), min_freq=2):\n",
    "        self.dataset = dataset\n",
    "        self.max_size = max_size\n",
    "        self.spacy_eng = spacy.load('en_core_web_sm')\n",
    "        self.min_freq = min_freq\n",
    "        self.itos = {0:'<PAD>', 1:'<UNK>'}\n",
    "        self.stoi = {v:k for k, v in self.itos.items()}\n",
    "\n",
    "    def __len__(self):\n",
    "        return len(self.itos)\n",
    "\n",
    "    def tokenize(self, text):\n",
    "        return [token.text.lower() for token in self.spacy_eng.tokenizer(text)]\n",
    "\n",
    "    def numericalize(self, text):\n",
    "        tokens = self.tokenize(text)\n",
    "        idxs = []\n",
    "        for token in tokens:\n",
    "            if self.stoi.get(token):\n",
    "                idxs.append(self.stoi[token])\n",
    "            else:\n",
    "                idxs.append(self.stoi['<UNK>'])\n",
    "        return idxs\n",
    "\n",
    "    def idx_to_token(self, numericalized):\n",
    "        return [self.itos[num] for num in numericalized]\n",
    "\n",
    "    def build_vocab(self):\n",
    "        freqs = Counter()\n",
    "        idx = 2\n",
    "        for i in range(len(self.dataset)):\n",
    "            review, _ = self.dataset[i]\n",
    "            for w in self.tokenize(review):\n",
    "                freqs[w] += 1\n",
    "        for w, _ in freqs.most_common():\n",
    "            if freqs[w] >= self.min_freq:\n",
    "                self.itos[idx] = w\n",
    "                self.stoi[w] = idx\n",
    "                idx += 1\n",
    "\n",
    "                if idx == self.max_size:\n",
    "                    break\n",
    "\n",
    "    def build_vocab_glove(self, dim=200, init_emb={}):\n",
    "        freqs = Counter()\n",
    "        idx = 2\n",
    "        for i in range(len(self.dataset)):\n",
    "            review, _ = self.dataset[i]\n",
    "            for w in self.tokenize(review):\n",
    "                freqs[w] += 1\n",
    "\n",
    "        embeddings = [v for k, v in init_emb.items()]\n",
    "        glove_dict = {}\n",
    "        with open(f'glove.6B.{dim}d.txt','rt') as fi:\n",
    "            content = fi.read().strip().split('\\n')\n",
    "        for i in range(len(content)):\n",
    "            w = content[i].split(' ')[0]\n",
    "            emb = [float(val) for val in content[i].split(' ')[1:]]\n",
    "            glove_dict[w] = emb\n",
    "        for w, _ in freqs.most_common():\n",
    "            if freqs[w] >= self.min_freq and glove_dict.get(w):\n",
    "                self.itos[idx] = w\n",
    "                self.stoi[w] = idx\n",
    "                embeddings.append(glove_dict[w])\n",
    "                idx += 1\n",
    "                if idx == self.max_size:\n",
    "                    break\n",
    "        return torch.tensor(embeddings)"
   ]
  },
  {
   "cell_type": "code",
   "execution_count": null,
   "id": "a727b609",
   "metadata": {
    "id": "a727b609"
   },
   "outputs": [],
   "source": [
    "train_dataset = IMDBDataset(X_train, y_train)\n",
    "test_dataset = IMDBDataset(X_test, y_test)\n",
    "val_dataset = IMDBDataset(X_val, y_val)"
   ]
  },
  {
   "cell_type": "code",
   "execution_count": null,
   "id": "nyl2CB1aYH_M",
   "metadata": {
    "colab": {
     "base_uri": "https://localhost:8080/"
    },
    "id": "nyl2CB1aYH_M",
    "outputId": "e6137458-7930-4da1-ee28-9490d9e05417"
   },
   "outputs": [
    {
     "name": "stdout",
     "output_type": "stream",
     "text": [
      "--2023-01-11 19:58:01--  http://nlp.stanford.edu/data/glove.6B.zip\n",
      "Resolving nlp.stanford.edu (nlp.stanford.edu)... 171.64.67.140\n",
      "Connecting to nlp.stanford.edu (nlp.stanford.edu)|171.64.67.140|:80... connected.\n",
      "HTTP request sent, awaiting response... 302 Found\n",
      "Location: https://nlp.stanford.edu/data/glove.6B.zip [following]\n",
      "--2023-01-11 19:58:02--  https://nlp.stanford.edu/data/glove.6B.zip\n",
      "Connecting to nlp.stanford.edu (nlp.stanford.edu)|171.64.67.140|:443... connected.\n",
      "HTTP request sent, awaiting response... 301 Moved Permanently\n",
      "Location: https://downloads.cs.stanford.edu/nlp/data/glove.6B.zip [following]\n",
      "--2023-01-11 19:58:02--  https://downloads.cs.stanford.edu/nlp/data/glove.6B.zip\n",
      "Resolving downloads.cs.stanford.edu (downloads.cs.stanford.edu)... 171.64.64.22\n",
      "Connecting to downloads.cs.stanford.edu (downloads.cs.stanford.edu)|171.64.64.22|:443... connected.\n",
      "HTTP request sent, awaiting response... 200 OK\n",
      "Length: 862182613 (822M) [application/zip]\n",
      "Saving to: ‘glove.6B.zip.1’\n",
      "\n",
      "glove.6B.zip.1      100%[===================>] 822.24M  5.12MB/s    in 2m 39s  \n",
      "\n",
      "2023-01-11 20:00:43 (5.16 MB/s) - ‘glove.6B.zip.1’ saved [862182613/862182613]\n",
      "\n",
      "Archive:  glove.6B.zip\n",
      "replace glove.6B.50d.txt? [y]es, [n]o, [A]ll, [N]one, [r]ename: n\n",
      "replace glove.6B.100d.txt? [y]es, [n]o, [A]ll, [N]one, [r]ename: n\n",
      "replace glove.6B.200d.txt? [y]es, [n]o, [A]ll, [N]one, [r]ename: n\n",
      "replace glove.6B.300d.txt? [y]es, [n]o, [A]ll, [N]one, [r]ename: n\n"
     ]
    }
   ],
   "source": [
    "!wget http://nlp.stanford.edu/data/glove.6B.zip\n",
    "!unzip glove.6B.zip"
   ]
  },
  {
   "cell_type": "code",
   "execution_count": null,
   "id": "Cw4s7kqmXHMA",
   "metadata": {
    "colab": {
     "base_uri": "https://localhost:8080/"
    },
    "id": "Cw4s7kqmXHMA",
    "outputId": "1f80dcf7-7506-4e2c-db53-2fb2eb3a69f1"
   },
   "outputs": [
    {
     "name": "stdout",
     "output_type": "stream",
     "text": [
      "Vocab size: 30000\n",
      "Embedding size: torch.Size([30000, 200])\n"
     ]
    }
   ],
   "source": [
    "vocab = Vocab(dataset=train_dataset, max_size=30000, min_freq=2)\n",
    "# vocab.build_vocab()\n",
    "init_emb = {\n",
    "    'pad': torch.zeros(200).tolist(),\n",
    "    'unk': torch.zeros(200).tolist(),\n",
    "}\n",
    "embeddings = vocab.build_vocab_glove(dim=200, init_emb=init_emb)\n",
    "print('Vocab size:', len(vocab))\n",
    "print('Embedding size:', embeddings.shape)"
   ]
  },
  {
   "cell_type": "code",
   "execution_count": null,
   "id": "f166cd21",
   "metadata": {
    "id": "f166cd21"
   },
   "outputs": [],
   "source": [
    "from torch.nn.utils.rnn import pad_sequence\n",
    "\n",
    "def numericalize_and_pad_text(batch, padding_idx, batch_first=False, max_seq_len=512):\n",
    "    batch_text, batch_label, batch_lens = [], [], []\n",
    "    for tupl in batch:\n",
    "        text, label = tupl\n",
    "        numericalized = vocab.numericalize(text)[:max_seq_len] # truncate at max_seq_len\n",
    "        batch_lens.append(len(numericalized))\n",
    "        batch_text.append(torch.tensor(numericalized)) # pad_sequence expects a list of tensors\n",
    "        batch_label.append(label)\n",
    "    batch_text = pad_sequence(batch_text, batch_first=batch_first, padding_value=padding_idx)\n",
    "    return batch_text.to(device), torch.tensor(batch_label).to(device), torch.tensor(batch_lens).to(device)"
   ]
  },
  {
   "cell_type": "code",
   "execution_count": null,
   "id": "04d77197",
   "metadata": {
    "id": "04d77197"
   },
   "outputs": [],
   "source": [
    "from functools import partial\n",
    "\n",
    "batch_size = 128\n",
    "max_seq_len = 512\n",
    "collate_fn = partial(numericalize_and_pad_text,\n",
    "                     padding_idx=vocab.stoi[\"<PAD>\"],\n",
    "                     max_seq_len = max_seq_len,\n",
    "                     batch_first=False)\n",
    "trainloader = DataLoader(dataset=train_dataset, shuffle=True,\n",
    "                        batch_size=batch_size, collate_fn=collate_fn)\n",
    "testloader = DataLoader(dataset=test_dataset, shuffle=False,\n",
    "                        batch_size=batch_size, collate_fn=collate_fn)\n",
    "valloader = DataLoader(dataset=val_dataset, shuffle=False,\n",
    "                        batch_size=batch_size, collate_fn=collate_fn)"
   ]
  },
  {
   "cell_type": "code",
   "execution_count": null,
   "id": "97061f72",
   "metadata": {
    "colab": {
     "base_uri": "https://localhost:8080/"
    },
    "id": "97061f72",
    "outputId": "13fe4874-1d49-4ad6-e4e0-4c0385ee55f1"
   },
   "outputs": [
    {
     "name": "stdout",
     "output_type": "stream",
     "text": [
      "torch.Size([512, 128]) torch.Size([128])\n",
      "torch.Size([512, 128]) torch.Size([128])\n",
      "torch.Size([512, 128]) torch.Size([128])\n",
      "torch.Size([512, 128]) torch.Size([128])\n",
      "torch.Size([512, 128]) torch.Size([128])\n",
      "torch.Size([512, 128]) torch.Size([128])\n",
      "torch.Size([512, 128]) torch.Size([128])\n",
      "torch.Size([512, 128]) torch.Size([128])\n",
      "torch.Size([512, 128]) torch.Size([128])\n",
      "torch.Size([512, 128]) torch.Size([128])\n",
      "torch.Size([512, 128]) torch.Size([128])\n",
      "torch.Size([512, 128]) torch.Size([128])\n",
      "torch.Size([512, 128]) torch.Size([128])\n",
      "torch.Size([512, 128]) torch.Size([128])\n",
      "torch.Size([512, 128]) torch.Size([128])\n",
      "torch.Size([512, 128]) torch.Size([128])\n",
      "torch.Size([512, 128]) torch.Size([128])\n",
      "torch.Size([512, 128]) torch.Size([128])\n",
      "torch.Size([512, 128]) torch.Size([128])\n",
      "torch.Size([512, 128]) torch.Size([128])\n",
      "torch.Size([512, 128]) torch.Size([128])\n",
      "torch.Size([512, 128]) torch.Size([128])\n",
      "torch.Size([512, 128]) torch.Size([128])\n",
      "torch.Size([512, 128]) torch.Size([128])\n",
      "torch.Size([512, 128]) torch.Size([128])\n",
      "torch.Size([512, 128]) torch.Size([128])\n",
      "torch.Size([512, 128]) torch.Size([128])\n",
      "torch.Size([512, 128]) torch.Size([128])\n",
      "torch.Size([512, 128]) torch.Size([128])\n",
      "torch.Size([512, 128]) torch.Size([128])\n",
      "torch.Size([512, 128]) torch.Size([128])\n",
      "torch.Size([512, 128]) torch.Size([128])\n",
      "torch.Size([512, 128]) torch.Size([128])\n",
      "torch.Size([512, 128]) torch.Size([128])\n",
      "torch.Size([512, 128]) torch.Size([128])\n",
      "torch.Size([512, 128]) torch.Size([128])\n",
      "torch.Size([512, 128]) torch.Size([128])\n",
      "torch.Size([512, 128]) torch.Size([128])\n",
      "torch.Size([512, 128]) torch.Size([128])\n",
      "torch.Size([512, 128]) torch.Size([128])\n",
      "torch.Size([512, 128]) torch.Size([128])\n",
      "torch.Size([512, 128]) torch.Size([128])\n",
      "torch.Size([512, 128]) torch.Size([128])\n",
      "torch.Size([512, 128]) torch.Size([128])\n",
      "torch.Size([512, 128]) torch.Size([128])\n",
      "torch.Size([512, 128]) torch.Size([128])\n",
      "torch.Size([512, 128]) torch.Size([128])\n",
      "torch.Size([512, 128]) torch.Size([128])\n",
      "torch.Size([512, 128]) torch.Size([128])\n",
      "torch.Size([512, 128]) torch.Size([128])\n",
      "torch.Size([512, 128]) torch.Size([128])\n",
      "torch.Size([512, 128]) torch.Size([128])\n",
      "torch.Size([512, 128]) torch.Size([128])\n",
      "torch.Size([512, 128]) torch.Size([128])\n",
      "torch.Size([512, 128]) torch.Size([128])\n",
      "torch.Size([512, 128]) torch.Size([128])\n",
      "torch.Size([512, 128]) torch.Size([128])\n",
      "torch.Size([512, 128]) torch.Size([128])\n",
      "torch.Size([512, 128]) torch.Size([128])\n",
      "torch.Size([512, 128]) torch.Size([128])\n",
      "torch.Size([512, 128]) torch.Size([128])\n",
      "torch.Size([512, 128]) torch.Size([128])\n",
      "torch.Size([512, 128]) torch.Size([128])\n",
      "torch.Size([512, 128]) torch.Size([128])\n",
      "torch.Size([512, 128]) torch.Size([128])\n",
      "torch.Size([512, 128]) torch.Size([128])\n",
      "torch.Size([512, 128]) torch.Size([128])\n",
      "torch.Size([512, 128]) torch.Size([128])\n",
      "torch.Size([512, 128]) torch.Size([128])\n",
      "torch.Size([512, 128]) torch.Size([128])\n",
      "torch.Size([512, 128]) torch.Size([128])\n",
      "torch.Size([512, 128]) torch.Size([128])\n",
      "torch.Size([512, 128]) torch.Size([128])\n",
      "torch.Size([512, 128]) torch.Size([128])\n",
      "torch.Size([512, 128]) torch.Size([128])\n",
      "torch.Size([512, 128]) torch.Size([128])\n",
      "torch.Size([512, 128]) torch.Size([128])\n",
      "torch.Size([512, 128]) torch.Size([128])\n",
      "torch.Size([512, 128]) torch.Size([128])\n",
      "torch.Size([512, 128]) torch.Size([128])\n",
      "torch.Size([512, 128]) torch.Size([128])\n",
      "torch.Size([512, 128]) torch.Size([128])\n",
      "torch.Size([512, 128]) torch.Size([128])\n",
      "torch.Size([512, 128]) torch.Size([128])\n",
      "torch.Size([512, 128]) torch.Size([128])\n",
      "torch.Size([512, 128]) torch.Size([128])\n",
      "torch.Size([512, 128]) torch.Size([128])\n",
      "torch.Size([512, 128]) torch.Size([128])\n",
      "torch.Size([512, 128]) torch.Size([128])\n",
      "torch.Size([512, 128]) torch.Size([128])\n",
      "torch.Size([512, 128]) torch.Size([128])\n",
      "torch.Size([512, 128]) torch.Size([128])\n",
      "torch.Size([512, 128]) torch.Size([128])\n",
      "torch.Size([512, 128]) torch.Size([128])\n",
      "torch.Size([512, 128]) torch.Size([128])\n",
      "torch.Size([512, 128]) torch.Size([128])\n",
      "torch.Size([512, 128]) torch.Size([128])\n",
      "torch.Size([512, 128]) torch.Size([128])\n",
      "torch.Size([512, 128]) torch.Size([128])\n",
      "torch.Size([512, 128]) torch.Size([128])\n",
      "torch.Size([512, 128]) torch.Size([128])\n",
      "torch.Size([512, 128]) torch.Size([128])\n",
      "torch.Size([512, 128]) torch.Size([128])\n",
      "torch.Size([512, 128]) torch.Size([128])\n",
      "torch.Size([512, 128]) torch.Size([128])\n",
      "torch.Size([512, 128]) torch.Size([128])\n",
      "torch.Size([512, 128]) torch.Size([128])\n",
      "torch.Size([512, 128]) torch.Size([128])\n",
      "torch.Size([512, 128]) torch.Size([128])\n",
      "torch.Size([512, 128]) torch.Size([128])\n",
      "torch.Size([512, 128]) torch.Size([128])\n",
      "torch.Size([512, 128]) torch.Size([128])\n",
      "torch.Size([512, 128]) torch.Size([128])\n",
      "torch.Size([512, 128]) torch.Size([128])\n",
      "torch.Size([512, 128]) torch.Size([128])\n",
      "torch.Size([512, 128]) torch.Size([128])\n",
      "torch.Size([512, 128]) torch.Size([128])\n",
      "torch.Size([512, 128]) torch.Size([128])\n",
      "torch.Size([512, 128]) torch.Size([128])\n",
      "torch.Size([512, 128]) torch.Size([128])\n",
      "torch.Size([512, 128]) torch.Size([128])\n",
      "torch.Size([512, 128]) torch.Size([128])\n",
      "torch.Size([512, 128]) torch.Size([128])\n",
      "torch.Size([512, 128]) torch.Size([128])\n",
      "torch.Size([512, 128]) torch.Size([128])\n",
      "torch.Size([512, 128]) torch.Size([128])\n",
      "torch.Size([512, 128]) torch.Size([128])\n",
      "torch.Size([512, 128]) torch.Size([128])\n",
      "torch.Size([512, 128]) torch.Size([128])\n",
      "torch.Size([512, 128]) torch.Size([128])\n",
      "torch.Size([512, 128]) torch.Size([128])\n",
      "torch.Size([512, 128]) torch.Size([128])\n",
      "torch.Size([512, 128]) torch.Size([128])\n",
      "torch.Size([512, 128]) torch.Size([128])\n",
      "torch.Size([512, 128]) torch.Size([128])\n",
      "torch.Size([512, 128]) torch.Size([128])\n",
      "torch.Size([512, 128]) torch.Size([128])\n",
      "torch.Size([512, 128]) torch.Size([128])\n",
      "torch.Size([512, 128]) torch.Size([128])\n",
      "torch.Size([512, 128]) torch.Size([128])\n",
      "torch.Size([512, 128]) torch.Size([128])\n",
      "torch.Size([512, 128]) torch.Size([128])\n",
      "torch.Size([512, 128]) torch.Size([128])\n",
      "torch.Size([512, 128]) torch.Size([128])\n",
      "torch.Size([512, 128]) torch.Size([128])\n",
      "torch.Size([512, 128]) torch.Size([128])\n",
      "torch.Size([512, 128]) torch.Size([128])\n",
      "torch.Size([512, 128]) torch.Size([128])\n",
      "torch.Size([512, 128]) torch.Size([128])\n",
      "torch.Size([512, 128]) torch.Size([128])\n",
      "torch.Size([512, 128]) torch.Size([128])\n",
      "torch.Size([512, 128]) torch.Size([128])\n",
      "torch.Size([512, 128]) torch.Size([128])\n",
      "torch.Size([512, 128]) torch.Size([128])\n",
      "torch.Size([512, 128]) torch.Size([128])\n",
      "torch.Size([512, 128]) torch.Size([128])\n",
      "torch.Size([512, 128]) torch.Size([128])\n",
      "torch.Size([512, 128]) torch.Size([128])\n",
      "torch.Size([512, 128]) torch.Size([128])\n",
      "torch.Size([512, 128]) torch.Size([128])\n",
      "torch.Size([512, 128]) torch.Size([128])\n",
      "torch.Size([512, 128]) torch.Size([128])\n",
      "torch.Size([512, 128]) torch.Size([128])\n",
      "torch.Size([512, 128]) torch.Size([128])\n",
      "torch.Size([512, 128]) torch.Size([128])\n",
      "torch.Size([512, 128]) torch.Size([128])\n",
      "torch.Size([512, 128]) torch.Size([128])\n",
      "torch.Size([512, 128]) torch.Size([128])\n",
      "torch.Size([512, 128]) torch.Size([128])\n",
      "torch.Size([512, 128]) torch.Size([128])\n",
      "torch.Size([512, 128]) torch.Size([128])\n",
      "torch.Size([512, 128]) torch.Size([128])\n",
      "torch.Size([512, 128]) torch.Size([128])\n",
      "torch.Size([512, 128]) torch.Size([128])\n",
      "torch.Size([512, 128]) torch.Size([128])\n",
      "torch.Size([512, 128]) torch.Size([128])\n",
      "torch.Size([512, 128]) torch.Size([128])\n",
      "torch.Size([512, 128]) torch.Size([128])\n",
      "torch.Size([512, 128]) torch.Size([128])\n",
      "torch.Size([512, 128]) torch.Size([128])\n",
      "torch.Size([512, 128]) torch.Size([128])\n",
      "torch.Size([512, 128]) torch.Size([128])\n",
      "torch.Size([512, 128]) torch.Size([128])\n",
      "torch.Size([512, 128]) torch.Size([128])\n",
      "torch.Size([512, 128]) torch.Size([128])\n",
      "torch.Size([512, 128]) torch.Size([128])\n",
      "torch.Size([512, 128]) torch.Size([128])\n",
      "torch.Size([512, 128]) torch.Size([128])\n",
      "torch.Size([512, 128]) torch.Size([128])\n",
      "torch.Size([512, 128]) torch.Size([128])\n",
      "torch.Size([512, 128]) torch.Size([128])\n",
      "torch.Size([512, 128]) torch.Size([128])\n",
      "torch.Size([512, 128]) torch.Size([128])\n",
      "torch.Size([512, 128]) torch.Size([128])\n",
      "torch.Size([512, 128]) torch.Size([128])\n",
      "torch.Size([512, 40]) torch.Size([40])\n"
     ]
    }
   ],
   "source": [
    "for batch in trainloader:\n",
    "    print(batch[0].shape, batch[1].shape)"
   ]
  },
  {
   "cell_type": "code",
   "execution_count": null,
   "id": "e1b9f3d1",
   "metadata": {
    "id": "e1b9f3d1"
   },
   "outputs": [],
   "source": [
    "class Model(nn.Module):\n",
    "    def __init__(self, len_vocab, emb_dim, hidden_dim, padding_idx):\n",
    "        super().__init__()\n",
    "        self.embed = nn.Embedding(len_vocab, emb_dim, padding_idx = padding_idx)\n",
    "        self.gru_layers = nn.GRU(emb_dim, hidden_dim, num_layers=3, bidirectional=True, dropout=0.5)\n",
    "        self.fc = nn.Linear(2*hidden_dim, 1)\n",
    "\n",
    "    def forward(self, text, seq_lens):\n",
    "        embedding = nn.Dropout(0.5)(self.embed(text))   # (seq_len, batch_size) ->  (seq_len, batch_size, emb_dim)\n",
    "        # Pack padded sequences\n",
    "        packed_embedding = nn.utils.rnn.pack_padded_sequence(embedding, seq_lens.to('cpu'), enforce_sorted=False)\n",
    "        packed_output, hidden_all_layers = self.gru_layers(packed_embedding) # hidden = (2*layers, batch_size, hidden_dim) [no. of directions=2]\n",
    "\n",
    "        # Unpack padded sequences\n",
    "        output, _ = nn.utils.rnn.pad_packed_sequence(packed_output) # output = (seq_len, batch_size, 2*hidden dim)\n",
    "\n",
    "        hidden_last_layer = nn.Dropout(0.5)(torch.cat((hidden_all_layers[-2,:,:], hidden_all_layers[-1,:,:]), dim = 1)) # hidden = (batch_size, 2*hidden_dim)\n",
    "        return self.fc(hidden_last_layer)"
   ]
  },
  {
   "cell_type": "code",
   "execution_count": null,
   "id": "170957bd",
   "metadata": {
    "colab": {
     "base_uri": "https://localhost:8080/"
    },
    "id": "170957bd",
    "outputId": "205424a2-6899-4f39-adb1-3c182180a66f"
   },
   "outputs": [
    {
     "name": "stdout",
     "output_type": "stream",
     "text": [
      "Model(\n",
      "  (embed): Embedding(30000, 200, padding_idx=0)\n",
      "  (gru_layers): GRU(200, 256, num_layers=3, dropout=0.5, bidirectional=True)\n",
      "  (fc): Linear(in_features=512, out_features=1, bias=True)\n",
      ")\n"
     ]
    }
   ],
   "source": [
    "padding_idx = vocab.stoi['<PAD>']\n",
    "unknown_index = vocab.stoi['<UNK>']\n",
    "model = Model(len_vocab=len(vocab), emb_dim=200,\n",
    "                 hidden_dim=256, padding_idx=padding_idx).to(device)\n",
    "print(model)"
   ]
  },
  {
   "cell_type": "code",
   "execution_count": null,
   "id": "EKCq975Sc7ql",
   "metadata": {
    "colab": {
     "base_uri": "https://localhost:8080/"
    },
    "id": "EKCq975Sc7ql",
    "outputId": "2796e970-db27-4eb8-8a6a-8a8b1c9fb3f6"
   },
   "outputs": [
    {
     "data": {
      "text/plain": [
       "tensor([[ 0.0000,  0.0000,  0.0000,  ...,  0.0000,  0.0000,  0.0000],\n",
       "        [ 0.0000,  0.0000,  0.0000,  ...,  0.0000,  0.0000,  0.0000],\n",
       "        [-0.0715,  0.0935,  0.0237,  ...,  0.3362,  0.0306,  0.2558],\n",
       "        ...,\n",
       "        [ 0.9558, -0.0636,  0.4445,  ...,  0.3814,  0.2111,  0.2643],\n",
       "        [ 0.0190, -0.0739, -0.5298,  ...,  0.6844,  0.2365,  0.2638],\n",
       "        [-0.1377,  0.8168,  0.4333,  ...,  0.4585, -0.4849, -0.5137]],\n",
       "       device='cuda:0')"
      ]
     },
     "execution_count": 24,
     "metadata": {},
     "output_type": "execute_result"
    }
   ],
   "source": [
    "model.embed.weight.data.copy_(embeddings.to(device))"
   ]
  },
  {
   "cell_type": "code",
   "execution_count": null,
   "id": "383ecd9c",
   "metadata": {
    "id": "383ecd9c"
   },
   "outputs": [],
   "source": [
    "lr=0.001\n",
    "optimizer = torch.optim.Adam(model.parameters(), lr=lr)\n",
    "loss_fn = nn.BCEWithLogitsLoss().to(device)"
   ]
  },
  {
   "cell_type": "code",
   "execution_count": null,
   "id": "JudMv5OQb7Ld",
   "metadata": {
    "colab": {
     "base_uri": "https://localhost:8080/"
    },
    "id": "JudMv5OQb7Ld",
    "outputId": "44c1cc4a-ca15-4285-9ae4-aff40af06213"
   },
   "outputs": [
    {
     "name": "stdout",
     "output_type": "stream",
     "text": [
      "Trainable parameters: 9,069,441\n"
     ]
    }
   ],
   "source": [
    "params = sum(param.numel() for param in model.parameters() if param.requires_grad)\n",
    "print(f'Trainable parameters: {params:,}')"
   ]
  },
  {
   "cell_type": "code",
   "execution_count": null,
   "id": "24cd7740",
   "metadata": {
    "id": "24cd7740"
   },
   "outputs": [],
   "source": [
    "def train():\n",
    "    losses, corrects = [], []\n",
    "    model.train()\n",
    "    for batch in trainloader:\n",
    "        optimizer.zero_grad()\n",
    "        text, label, seq_lens = batch\n",
    "\n",
    "        preds = model(text, seq_lens)\n",
    "        preds = preds.squeeze(1)\n",
    "        loss = loss_fn(preds, label.float()) # label is int64 and preds is float, so need to typecast\n",
    "\n",
    "        preds = torch.round(torch.sigmoid(preds))\n",
    "        num_correct = (preds == label).sum().float()\n",
    "\n",
    "        loss.backward()\n",
    "        optimizer.step()\n",
    "\n",
    "        losses.append(loss.item())\n",
    "        corrects.append(num_correct.item()/len(label))\n",
    "\n",
    "    return sum(losses) / len(trainloader), sum(corrects) / len(trainloader)"
   ]
  },
  {
   "cell_type": "code",
   "execution_count": null,
   "id": "d68d0c34",
   "metadata": {
    "id": "d68d0c34"
   },
   "outputs": [],
   "source": [
    "def evaluate(loader):\n",
    "    losses, corrects = [], []\n",
    "    model.eval()\n",
    "    with torch.no_grad():\n",
    "        for batch in loader:\n",
    "            text, label, seq_lens = batch\n",
    "            preds = model(text, seq_lens)\n",
    "            preds = preds.squeeze(1)\n",
    "            loss = loss_fn(preds, label.float())\n",
    "\n",
    "            preds = torch.round(torch.sigmoid(preds))\n",
    "            num_correct = (preds == label).sum().float()\n",
    "\n",
    "\n",
    "            losses.append(loss.item())\n",
    "            corrects.append(num_correct.item()/len(label))\n",
    "\n",
    "    return sum(losses) / len(loader), sum(corrects) / len(loader)"
   ]
  },
  {
   "cell_type": "code",
   "execution_count": null,
   "id": "rrBjd5SZGmMb",
   "metadata": {
    "id": "rrBjd5SZGmMb"
   },
   "outputs": [],
   "source": [
    "import time\n",
    "\n",
    "def time_epoch(start, end):\n",
    "    diff = end - start\n",
    "    mins = int(diff / 60)\n",
    "    secs = int(diff - (mins * 60))\n",
    "    return mins, secs"
   ]
  },
  {
   "cell_type": "markdown",
   "id": "913MLhheeE1Q",
   "metadata": {
    "id": "913MLhheeE1Q"
   },
   "source": [
    "# Without pre-trained embeddings"
   ]
  },
  {
   "cell_type": "code",
   "execution_count": null,
   "id": "ee12d9bc",
   "metadata": {
    "colab": {
     "base_uri": "https://localhost:8080/",
     "height": 300
    },
    "id": "ee12d9bc",
    "outputId": "ad91874a-361a-4c2f-d6b9-6c0f98f18f4e"
   },
   "outputs": [
    {
     "data": {
      "text/html": [
       "\n",
       "  <div id=\"df-027a1a05-d80e-4a62-ae1d-90557c166d96\">\n",
       "    <div class=\"colab-df-container\">\n",
       "      <div>\n",
       "<style scoped>\n",
       "    .dataframe tbody tr th:only-of-type {\n",
       "        vertical-align: middle;\n",
       "    }\n",
       "\n",
       "    .dataframe tbody tr th {\n",
       "        vertical-align: top;\n",
       "    }\n",
       "\n",
       "    .dataframe thead th {\n",
       "        text-align: right;\n",
       "    }\n",
       "</style>\n",
       "<table border=\"1\" class=\"dataframe\">\n",
       "  <thead>\n",
       "    <tr style=\"text-align: right;\">\n",
       "      <th></th>\n",
       "      <th>Epoch</th>\n",
       "      <th>Train Loss</th>\n",
       "      <th>Train Acc</th>\n",
       "      <th>Val Loss</th>\n",
       "      <th>Val Acc</th>\n",
       "      <th>Time</th>\n",
       "    </tr>\n",
       "  </thead>\n",
       "  <tbody>\n",
       "    <tr>\n",
       "      <th>0</th>\n",
       "      <td>1</td>\n",
       "      <td>0.639</td>\n",
       "      <td>62.82%</td>\n",
       "      <td>0.653</td>\n",
       "      <td>67.34%</td>\n",
       "      <td>1min 13s</td>\n",
       "    </tr>\n",
       "    <tr>\n",
       "      <th>1</th>\n",
       "      <td>2</td>\n",
       "      <td>0.476</td>\n",
       "      <td>77.00%</td>\n",
       "      <td>0.465</td>\n",
       "      <td>77.89%</td>\n",
       "      <td>1min 12s</td>\n",
       "    </tr>\n",
       "    <tr>\n",
       "      <th>2</th>\n",
       "      <td>3</td>\n",
       "      <td>0.368</td>\n",
       "      <td>83.75%</td>\n",
       "      <td>0.377</td>\n",
       "      <td>83.12%</td>\n",
       "      <td>1min 13s</td>\n",
       "    </tr>\n",
       "    <tr>\n",
       "      <th>3</th>\n",
       "      <td>4</td>\n",
       "      <td>0.298</td>\n",
       "      <td>87.41%</td>\n",
       "      <td>0.333</td>\n",
       "      <td>85.74%</td>\n",
       "      <td>1min 12s</td>\n",
       "    </tr>\n",
       "    <tr>\n",
       "      <th>4</th>\n",
       "      <td>5</td>\n",
       "      <td>0.261</td>\n",
       "      <td>89.27%</td>\n",
       "      <td>0.325</td>\n",
       "      <td>86.15%</td>\n",
       "      <td>1min 14s</td>\n",
       "    </tr>\n",
       "    <tr>\n",
       "      <th>5</th>\n",
       "      <td>6</td>\n",
       "      <td>0.221</td>\n",
       "      <td>91.02%</td>\n",
       "      <td>0.308</td>\n",
       "      <td>87.48%</td>\n",
       "      <td>1min 12s</td>\n",
       "    </tr>\n",
       "    <tr>\n",
       "      <th>6</th>\n",
       "      <td>7</td>\n",
       "      <td>0.196</td>\n",
       "      <td>92.07%</td>\n",
       "      <td>0.315</td>\n",
       "      <td>86.97%</td>\n",
       "      <td>1min 13s</td>\n",
       "    </tr>\n",
       "    <tr>\n",
       "      <th>7</th>\n",
       "      <td>8</td>\n",
       "      <td>0.175</td>\n",
       "      <td>93.11%</td>\n",
       "      <td>0.334</td>\n",
       "      <td>86.68%</td>\n",
       "      <td>1min 13s</td>\n",
       "    </tr>\n",
       "  </tbody>\n",
       "</table>\n",
       "</div>\n",
       "      <button class=\"colab-df-convert\" onclick=\"convertToInteractive('df-027a1a05-d80e-4a62-ae1d-90557c166d96')\"\n",
       "              title=\"Convert this dataframe to an interactive table.\"\n",
       "              style=\"display:none;\">\n",
       "        \n",
       "  <svg xmlns=\"http://www.w3.org/2000/svg\" height=\"24px\"viewBox=\"0 0 24 24\"\n",
       "       width=\"24px\">\n",
       "    <path d=\"M0 0h24v24H0V0z\" fill=\"none\"/>\n",
       "    <path d=\"M18.56 5.44l.94 2.06.94-2.06 2.06-.94-2.06-.94-.94-2.06-.94 2.06-2.06.94zm-11 1L8.5 8.5l.94-2.06 2.06-.94-2.06-.94L8.5 2.5l-.94 2.06-2.06.94zm10 10l.94 2.06.94-2.06 2.06-.94-2.06-.94-.94-2.06-.94 2.06-2.06.94z\"/><path d=\"M17.41 7.96l-1.37-1.37c-.4-.4-.92-.59-1.43-.59-.52 0-1.04.2-1.43.59L10.3 9.45l-7.72 7.72c-.78.78-.78 2.05 0 2.83L4 21.41c.39.39.9.59 1.41.59.51 0 1.02-.2 1.41-.59l7.78-7.78 2.81-2.81c.8-.78.8-2.07 0-2.86zM5.41 20L4 18.59l7.72-7.72 1.47 1.35L5.41 20z\"/>\n",
       "  </svg>\n",
       "      </button>\n",
       "      \n",
       "  <style>\n",
       "    .colab-df-container {\n",
       "      display:flex;\n",
       "      flex-wrap:wrap;\n",
       "      gap: 12px;\n",
       "    }\n",
       "\n",
       "    .colab-df-convert {\n",
       "      background-color: #E8F0FE;\n",
       "      border: none;\n",
       "      border-radius: 50%;\n",
       "      cursor: pointer;\n",
       "      display: none;\n",
       "      fill: #1967D2;\n",
       "      height: 32px;\n",
       "      padding: 0 0 0 0;\n",
       "      width: 32px;\n",
       "    }\n",
       "\n",
       "    .colab-df-convert:hover {\n",
       "      background-color: #E2EBFA;\n",
       "      box-shadow: 0px 1px 2px rgba(60, 64, 67, 0.3), 0px 1px 3px 1px rgba(60, 64, 67, 0.15);\n",
       "      fill: #174EA6;\n",
       "    }\n",
       "\n",
       "    [theme=dark] .colab-df-convert {\n",
       "      background-color: #3B4455;\n",
       "      fill: #D2E3FC;\n",
       "    }\n",
       "\n",
       "    [theme=dark] .colab-df-convert:hover {\n",
       "      background-color: #434B5C;\n",
       "      box-shadow: 0px 1px 3px 1px rgba(0, 0, 0, 0.15);\n",
       "      filter: drop-shadow(0px 1px 2px rgba(0, 0, 0, 0.3));\n",
       "      fill: #FFFFFF;\n",
       "    }\n",
       "  </style>\n",
       "\n",
       "      <script>\n",
       "        const buttonEl =\n",
       "          document.querySelector('#df-027a1a05-d80e-4a62-ae1d-90557c166d96 button.colab-df-convert');\n",
       "        buttonEl.style.display =\n",
       "          google.colab.kernel.accessAllowed ? 'block' : 'none';\n",
       "\n",
       "        async function convertToInteractive(key) {\n",
       "          const element = document.querySelector('#df-027a1a05-d80e-4a62-ae1d-90557c166d96');\n",
       "          const dataTable =\n",
       "            await google.colab.kernel.invokeFunction('convertToInteractive',\n",
       "                                                     [key], {});\n",
       "          if (!dataTable) return;\n",
       "\n",
       "          const docLinkHtml = 'Like what you see? Visit the ' +\n",
       "            '<a target=\"_blank\" href=https://colab.research.google.com/notebooks/data_table.ipynb>data table notebook</a>'\n",
       "            + ' to learn more about interactive tables.';\n",
       "          element.innerHTML = '';\n",
       "          dataTable['output_type'] = 'display_data';\n",
       "          await google.colab.output.renderOutput(dataTable, element);\n",
       "          const docLink = document.createElement('div');\n",
       "          docLink.innerHTML = docLinkHtml;\n",
       "          element.appendChild(docLink);\n",
       "        }\n",
       "      </script>\n",
       "    </div>\n",
       "  </div>\n",
       "  "
      ],
      "text/plain": [
       "  Epoch Train Loss Train Acc Val Loss Val Acc      Time\n",
       "0     1      0.639    62.82%    0.653  67.34%  1min 13s\n",
       "1     2      0.476    77.00%    0.465  77.89%  1min 12s\n",
       "2     3      0.368    83.75%    0.377  83.12%  1min 13s\n",
       "3     4      0.298    87.41%    0.333  85.74%  1min 12s\n",
       "4     5      0.261    89.27%    0.325  86.15%  1min 14s\n",
       "5     6      0.221    91.02%    0.308  87.48%  1min 12s\n",
       "6     7      0.196    92.07%    0.315  86.97%  1min 13s\n",
       "7     8      0.175    93.11%    0.334  86.68%  1min 13s"
      ]
     },
     "metadata": {},
     "output_type": "display_data"
    }
   ],
   "source": [
    "from IPython import display\n",
    "res = pd.DataFrame(columns=['Epoch', 'Train Loss', 'Train Acc', 'Val Loss', 'Val Acc', 'Time'])\n",
    "display.display(res)\n",
    "\n",
    "best_val_loss = float('inf')\n",
    "for epoch in range(8):\n",
    "\n",
    "    start = time.time()\n",
    "    train_loss, train_acc = train()\n",
    "    val_loss, val_acc = evaluate(valloader)\n",
    "    end = time.time()\n",
    "    mins, secs = time_epoch(start, end)\n",
    "\n",
    "    if val_loss < best_val_loss:\n",
    "        best_val_loss = val_loss\n",
    "        torch.save(model.state_dict(), './drive/MyDrive/IMDB/gru++.pth')\n",
    "\n",
    "    display.clear_output(wait=True)\n",
    "    res.loc[len(res)] = [epoch+1, f'{train_loss:.3f}', f'{train_acc*100:.2f}%', f'{val_loss:.3f}', f'{val_acc*100:.2f}%', f'{mins}min {secs}s']\n",
    "    display.display(res)"
   ]
  },
  {
   "cell_type": "code",
   "execution_count": null,
   "id": "Yozw8_z1Lqzl",
   "metadata": {
    "colab": {
     "base_uri": "https://localhost:8080/"
    },
    "id": "Yozw8_z1Lqzl",
    "outputId": "52edf06a-2441-4086-96a9-21ce065ed2cc"
   },
   "outputs": [
    {
     "name": "stdout",
     "output_type": "stream",
     "text": [
      "Test Loss: 0.303 | Test Acc: 87.64%\n"
     ]
    }
   ],
   "source": [
    "model.load_state_dict(torch.load('./drive/MyDrive/IMDB/gru++.pth'))\n",
    "test_loss, test_acc = evaluate(testloader)\n",
    "print(f'Test Loss: {test_loss:.3f} | Test Acc: {test_acc*100:.2f}%')"
   ]
  },
  {
   "cell_type": "code",
   "execution_count": null,
   "id": "8MSYX72SXQw4",
   "metadata": {
    "colab": {
     "base_uri": "https://localhost:8080/"
    },
    "id": "8MSYX72SXQw4",
    "outputId": "298089f3-07b6-4daf-aa82-8d8197f12873"
   },
   "outputs": [
    {
     "name": "stdout",
     "output_type": "stream",
     "text": [
      "0.129 => negative\n",
      "0.516 => positive\n"
     ]
    }
   ],
   "source": [
    "spacy_eng = spacy.load('en_core_web_sm')\n",
    "\n",
    "def sentiment_analysis(text):\n",
    "    model.eval()\n",
    "    numericalized = vocab.numericalize(text)\n",
    "    inp_idx = torch.LongTensor(numericalized).unsqueeze(1).to(device)\n",
    "    seq_len = torch.LongTensor([len(numericalized)]).to(device)\n",
    "    pred = torch.sigmoid(model(inp_idx, seq_len))\n",
    "    feel = 'positive' if pred.item() > 0.5 else 'negative'\n",
    "    return f'{round(pred.item(), 3)} => {feel}'\n",
    "\n",
    "# results are a little stochastic, might be a good idea to take an average\n",
    "print(sentiment_analysis('Me neither! I am so annoyed because my laptop is new, and yet I have not been able to get this new OS to work.'))\n",
    "print(sentiment_analysis('Good morning Bangalore, great to see a bright and sunny day here.'))"
   ]
  },
  {
   "cell_type": "markdown",
   "id": "2rgYTHbOeIht",
   "metadata": {
    "id": "2rgYTHbOeIht"
   },
   "source": [
    "# GloVe embeddings"
   ]
  },
  {
   "cell_type": "code",
   "execution_count": null,
   "id": "P3M9ZQR6eclK",
   "metadata": {
    "colab": {
     "base_uri": "https://localhost:8080/",
     "height": 300
    },
    "id": "P3M9ZQR6eclK",
    "outputId": "c3b29ab3-d4b2-4f3e-f9dc-07a068ab7d20"
   },
   "outputs": [
    {
     "data": {
      "text/html": [
       "\n",
       "  <div id=\"df-19df8be5-4d3f-45e3-8336-d9ee630efb82\">\n",
       "    <div class=\"colab-df-container\">\n",
       "      <div>\n",
       "<style scoped>\n",
       "    .dataframe tbody tr th:only-of-type {\n",
       "        vertical-align: middle;\n",
       "    }\n",
       "\n",
       "    .dataframe tbody tr th {\n",
       "        vertical-align: top;\n",
       "    }\n",
       "\n",
       "    .dataframe thead th {\n",
       "        text-align: right;\n",
       "    }\n",
       "</style>\n",
       "<table border=\"1\" class=\"dataframe\">\n",
       "  <thead>\n",
       "    <tr style=\"text-align: right;\">\n",
       "      <th></th>\n",
       "      <th>Epoch</th>\n",
       "      <th>Train Loss</th>\n",
       "      <th>Train Acc</th>\n",
       "      <th>Val Loss</th>\n",
       "      <th>Val Acc</th>\n",
       "      <th>Time</th>\n",
       "    </tr>\n",
       "  </thead>\n",
       "  <tbody>\n",
       "    <tr>\n",
       "      <th>0</th>\n",
       "      <td>1</td>\n",
       "      <td>0.615</td>\n",
       "      <td>65.29%</td>\n",
       "      <td>0.612</td>\n",
       "      <td>75.12%</td>\n",
       "      <td>1min 15s</td>\n",
       "    </tr>\n",
       "    <tr>\n",
       "      <th>1</th>\n",
       "      <td>2</td>\n",
       "      <td>0.358</td>\n",
       "      <td>84.99%</td>\n",
       "      <td>0.312</td>\n",
       "      <td>86.76%</td>\n",
       "      <td>1min 12s</td>\n",
       "    </tr>\n",
       "    <tr>\n",
       "      <th>2</th>\n",
       "      <td>3</td>\n",
       "      <td>0.234</td>\n",
       "      <td>90.84%</td>\n",
       "      <td>0.297</td>\n",
       "      <td>88.09%</td>\n",
       "      <td>1min 13s</td>\n",
       "    </tr>\n",
       "    <tr>\n",
       "      <th>3</th>\n",
       "      <td>4</td>\n",
       "      <td>0.180</td>\n",
       "      <td>93.20%</td>\n",
       "      <td>0.361</td>\n",
       "      <td>87.64%</td>\n",
       "      <td>1min 13s</td>\n",
       "    </tr>\n",
       "    <tr>\n",
       "      <th>4</th>\n",
       "      <td>5</td>\n",
       "      <td>0.147</td>\n",
       "      <td>94.68%</td>\n",
       "      <td>0.364</td>\n",
       "      <td>87.48%</td>\n",
       "      <td>1min 15s</td>\n",
       "    </tr>\n",
       "    <tr>\n",
       "      <th>5</th>\n",
       "      <td>6</td>\n",
       "      <td>0.109</td>\n",
       "      <td>96.24%</td>\n",
       "      <td>0.395</td>\n",
       "      <td>86.58%</td>\n",
       "      <td>1min 13s</td>\n",
       "    </tr>\n",
       "    <tr>\n",
       "      <th>6</th>\n",
       "      <td>7</td>\n",
       "      <td>0.089</td>\n",
       "      <td>96.94%</td>\n",
       "      <td>0.427</td>\n",
       "      <td>85.23%</td>\n",
       "      <td>1min 13s</td>\n",
       "    </tr>\n",
       "    <tr>\n",
       "      <th>7</th>\n",
       "      <td>8</td>\n",
       "      <td>0.074</td>\n",
       "      <td>97.53%</td>\n",
       "      <td>0.486</td>\n",
       "      <td>85.92%</td>\n",
       "      <td>1min 15s</td>\n",
       "    </tr>\n",
       "  </tbody>\n",
       "</table>\n",
       "</div>\n",
       "      <button class=\"colab-df-convert\" onclick=\"convertToInteractive('df-19df8be5-4d3f-45e3-8336-d9ee630efb82')\"\n",
       "              title=\"Convert this dataframe to an interactive table.\"\n",
       "              style=\"display:none;\">\n",
       "        \n",
       "  <svg xmlns=\"http://www.w3.org/2000/svg\" height=\"24px\"viewBox=\"0 0 24 24\"\n",
       "       width=\"24px\">\n",
       "    <path d=\"M0 0h24v24H0V0z\" fill=\"none\"/>\n",
       "    <path d=\"M18.56 5.44l.94 2.06.94-2.06 2.06-.94-2.06-.94-.94-2.06-.94 2.06-2.06.94zm-11 1L8.5 8.5l.94-2.06 2.06-.94-2.06-.94L8.5 2.5l-.94 2.06-2.06.94zm10 10l.94 2.06.94-2.06 2.06-.94-2.06-.94-.94-2.06-.94 2.06-2.06.94z\"/><path d=\"M17.41 7.96l-1.37-1.37c-.4-.4-.92-.59-1.43-.59-.52 0-1.04.2-1.43.59L10.3 9.45l-7.72 7.72c-.78.78-.78 2.05 0 2.83L4 21.41c.39.39.9.59 1.41.59.51 0 1.02-.2 1.41-.59l7.78-7.78 2.81-2.81c.8-.78.8-2.07 0-2.86zM5.41 20L4 18.59l7.72-7.72 1.47 1.35L5.41 20z\"/>\n",
       "  </svg>\n",
       "      </button>\n",
       "      \n",
       "  <style>\n",
       "    .colab-df-container {\n",
       "      display:flex;\n",
       "      flex-wrap:wrap;\n",
       "      gap: 12px;\n",
       "    }\n",
       "\n",
       "    .colab-df-convert {\n",
       "      background-color: #E8F0FE;\n",
       "      border: none;\n",
       "      border-radius: 50%;\n",
       "      cursor: pointer;\n",
       "      display: none;\n",
       "      fill: #1967D2;\n",
       "      height: 32px;\n",
       "      padding: 0 0 0 0;\n",
       "      width: 32px;\n",
       "    }\n",
       "\n",
       "    .colab-df-convert:hover {\n",
       "      background-color: #E2EBFA;\n",
       "      box-shadow: 0px 1px 2px rgba(60, 64, 67, 0.3), 0px 1px 3px 1px rgba(60, 64, 67, 0.15);\n",
       "      fill: #174EA6;\n",
       "    }\n",
       "\n",
       "    [theme=dark] .colab-df-convert {\n",
       "      background-color: #3B4455;\n",
       "      fill: #D2E3FC;\n",
       "    }\n",
       "\n",
       "    [theme=dark] .colab-df-convert:hover {\n",
       "      background-color: #434B5C;\n",
       "      box-shadow: 0px 1px 3px 1px rgba(0, 0, 0, 0.15);\n",
       "      filter: drop-shadow(0px 1px 2px rgba(0, 0, 0, 0.3));\n",
       "      fill: #FFFFFF;\n",
       "    }\n",
       "  </style>\n",
       "\n",
       "      <script>\n",
       "        const buttonEl =\n",
       "          document.querySelector('#df-19df8be5-4d3f-45e3-8336-d9ee630efb82 button.colab-df-convert');\n",
       "        buttonEl.style.display =\n",
       "          google.colab.kernel.accessAllowed ? 'block' : 'none';\n",
       "\n",
       "        async function convertToInteractive(key) {\n",
       "          const element = document.querySelector('#df-19df8be5-4d3f-45e3-8336-d9ee630efb82');\n",
       "          const dataTable =\n",
       "            await google.colab.kernel.invokeFunction('convertToInteractive',\n",
       "                                                     [key], {});\n",
       "          if (!dataTable) return;\n",
       "\n",
       "          const docLinkHtml = 'Like what you see? Visit the ' +\n",
       "            '<a target=\"_blank\" href=https://colab.research.google.com/notebooks/data_table.ipynb>data table notebook</a>'\n",
       "            + ' to learn more about interactive tables.';\n",
       "          element.innerHTML = '';\n",
       "          dataTable['output_type'] = 'display_data';\n",
       "          await google.colab.output.renderOutput(dataTable, element);\n",
       "          const docLink = document.createElement('div');\n",
       "          docLink.innerHTML = docLinkHtml;\n",
       "          element.appendChild(docLink);\n",
       "        }\n",
       "      </script>\n",
       "    </div>\n",
       "  </div>\n",
       "  "
      ],
      "text/plain": [
       "  Epoch Train Loss Train Acc Val Loss Val Acc      Time\n",
       "0     1      0.615    65.29%    0.612  75.12%  1min 15s\n",
       "1     2      0.358    84.99%    0.312  86.76%  1min 12s\n",
       "2     3      0.234    90.84%    0.297  88.09%  1min 13s\n",
       "3     4      0.180    93.20%    0.361  87.64%  1min 13s\n",
       "4     5      0.147    94.68%    0.364  87.48%  1min 15s\n",
       "5     6      0.109    96.24%    0.395  86.58%  1min 13s\n",
       "6     7      0.089    96.94%    0.427  85.23%  1min 13s\n",
       "7     8      0.074    97.53%    0.486  85.92%  1min 15s"
      ]
     },
     "metadata": {},
     "output_type": "display_data"
    }
   ],
   "source": [
    "from IPython import display\n",
    "res = pd.DataFrame(columns=['Epoch', 'Train Loss', 'Train Acc', 'Val Loss', 'Val Acc', 'Time'])\n",
    "display.display(res)\n",
    "\n",
    "best_val_loss = float('inf')\n",
    "for epoch in range(8):\n",
    "\n",
    "    start = time.time()\n",
    "    train_loss, train_acc = train()\n",
    "    val_loss, val_acc = evaluate(valloader)\n",
    "    end = time.time()\n",
    "    mins, secs = time_epoch(start, end)\n",
    "\n",
    "    if val_loss < best_val_loss:\n",
    "        best_val_loss = val_loss\n",
    "        torch.save(model.state_dict(), './drive/MyDrive/IMDB/gru_glove++.pth')\n",
    "\n",
    "    display.clear_output(wait=True)\n",
    "    res.loc[len(res)] = [epoch+1, f'{train_loss:.3f}', f'{train_acc*100:.2f}%', f'{val_loss:.3f}', f'{val_acc*100:.2f}%', f'{mins}min {secs}s']\n",
    "    display.display(res)"
   ]
  },
  {
   "cell_type": "code",
   "execution_count": null,
   "id": "Dz06tqo4fF4K",
   "metadata": {
    "colab": {
     "base_uri": "https://localhost:8080/"
    },
    "id": "Dz06tqo4fF4K",
    "outputId": "81f46b34-1585-493b-e11c-26d572f827f7"
   },
   "outputs": [
    {
     "name": "stdout",
     "output_type": "stream",
     "text": [
      "Test Loss: 0.302 | Test Acc: 87.97%\n"
     ]
    }
   ],
   "source": [
    "model.load_state_dict(torch.load('./drive/MyDrive/IMDB/gru_glove++.pth'))\n",
    "test_loss, test_acc = evaluate(testloader)\n",
    "print(f'Test Loss: {test_loss:.3f} | Test Acc: {test_acc*100:.2f}%')"
   ]
  },
  {
   "cell_type": "code",
   "execution_count": null,
   "id": "X92c3og1jUmP",
   "metadata": {
    "colab": {
     "base_uri": "https://localhost:8080/"
    },
    "id": "X92c3og1jUmP",
    "outputId": "0b8e3e97-e98b-4a16-88eb-d412005b2e25"
   },
   "outputs": [
    {
     "name": "stdout",
     "output_type": "stream",
     "text": [
      "0.168 => negative\n",
      "0.948 => positive\n"
     ]
    }
   ],
   "source": [
    "spacy_eng = spacy.load('en_core_web_sm')\n",
    "\n",
    "def sentiment_analysis(text):\n",
    "    model.eval()\n",
    "    numericalized = vocab.numericalize(text)\n",
    "    inp_idx = torch.LongTensor(numericalized).unsqueeze(1).to(device)\n",
    "    seq_len = torch.LongTensor([len(numericalized)]).to(device)\n",
    "    pred = torch.sigmoid(model(inp_idx, seq_len))\n",
    "    feel = 'positive' if pred.item() > 0.5 else 'negative'\n",
    "    return f'{round(pred.item(), 3)} => {feel}'\n",
    "\n",
    "# results are a little stochastic, might be a good idea to take an average\n",
    "print(sentiment_analysis('Me neither! I am so annoyed because my laptop is new, and yet I have not been able to get this new OS to work.'))\n",
    "print(sentiment_analysis('Good morning Bangalore, great to see a bright and sunny day here.'))"
   ]
  }
 ],
 "metadata": {
  "accelerator": "GPU",
  "colab": {
   "collapsed_sections": [
    "913MLhheeE1Q"
   ],
   "provenance": []
  },
  "gpuClass": "standard",
  "kernelspec": {
   "display_name": "Python 3 (ipykernel)",
   "language": "python",
   "name": "python3"
  },
  "language_info": {
   "codemirror_mode": {
    "name": "ipython",
    "version": 3
   },
   "file_extension": ".py",
   "mimetype": "text/x-python",
   "name": "python",
   "nbconvert_exporter": "python",
   "pygments_lexer": "ipython3",
   "version": "3.11.5"
  }
 },
 "nbformat": 4,
 "nbformat_minor": 5
}
